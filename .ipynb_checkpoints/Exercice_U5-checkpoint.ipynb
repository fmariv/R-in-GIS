{
 "cells": [
  {
   "cell_type": "markdown",
   "metadata": {},
   "source": [
    "# Ejercicios Unidad 5"
   ]
  },
  {
   "cell_type": "markdown",
   "metadata": {},
   "source": [
    " ## Estadística con R"
   ]
  },
  {
   "cell_type": "code",
   "execution_count": null,
   "metadata": {},
   "outputs": [],
   "source": [
    "# Modificar por la ruta de directorio de trabajo\n",
    "setwd(\"C:/Users/fmart/Documents/Workspace/SIG_y_R\")\n",
    "\n",
    "# Cargar las librerias\n",
    "library(sp)\n",
    "library(sf)\n",
    "library(geoR)\n",
    "library(rgdal)\n",
    "library(spData)\n",
    "library(scatterplot3d)"
   ]
  },
  {
   "cell_type": "markdown",
   "metadata": {},
   "source": [
    "### Ejercicio 1"
   ]
  },
  {
   "cell_type": "code",
   "execution_count": null,
   "metadata": {},
   "outputs": [],
   "source": [
    "# Cargamos objetos\n",
    "data(package = 'geoR')\n",
    "data(ca20)\n",
    "names(ca20)\n",
    "class(ca20)\n",
    "head(as.data.frame(ca20), 6)"
   ]
  },
  {
   "cell_type": "markdown",
   "metadata": {},
   "source": [
    "### Ejercicio 2"
   ]
  },
  {
   "cell_type": "code",
   "execution_count": null,
   "metadata": {},
   "outputs": [],
   "source": [
    "data(meuse)\n",
    "class(meuse)\n",
    "geo_meuse <- as.geodata(meuse)\n",
    "class(geo_meuse)\n",
    "sf_meuse_bor <- st_read('datos/datos_vectoriales/meuse_borde.geojson')\n",
    "names(sf_meuse_bor)\n",
    "sp_meuse_bor <- as(sf_meuse_bor, 'Spatial')\n",
    "class(sp_meuse_bor)"
   ]
  },
  {
   "cell_type": "markdown",
   "metadata": {},
   "source": [
    "### Ejercicio 3"
   ]
  },
  {
   "cell_type": "code",
   "execution_count": null,
   "metadata": {},
   "outputs": [],
   "source": [
    "ca20_data <- ca20$data\n",
    "mean(ca20_data)\n",
    "median(ca20_data)"
   ]
  },
  {
   "cell_type": "markdown",
   "metadata": {},
   "source": [
    "### Ejercicio 4"
   ]
  },
  {
   "cell_type": "code",
   "execution_count": null,
   "metadata": {},
   "outputs": [],
   "source": [
    "var(ca20_data)\n",
    "sd(ca20_data)\n",
    "IQR(ca20_data)"
   ]
  },
  {
   "cell_type": "markdown",
   "metadata": {},
   "source": [
    "### Ejercicio 5"
   ]
  },
  {
   "cell_type": "code",
   "execution_count": null,
   "metadata": {},
   "outputs": [],
   "source": [
    "summary(ca20)"
   ]
  },
  {
   "cell_type": "markdown",
   "metadata": {},
   "source": [
    "### Ejercicio 6"
   ]
  },
  {
   "cell_type": "code",
   "execution_count": null,
   "metadata": {},
   "outputs": [],
   "source": [
    "# Histograma\n",
    "# Histograma de 5 clases\n",
    "hist(ca20_data, 5, main = 'Histograma de 5 clases')\n",
    "\n",
    "# Histograma de 10 clases\n",
    "hist(ca20_data, 10, main = 'Histograma de 10 clases')\n",
    "\n",
    "# Histograma de 15 clases\n",
    "hist(ca20_data, 15, main = 'Histograma de 15 clases')\n",
    "\n",
    "# Gráfico boxplot\n",
    "boxplot(ca20_data, col = 'red', main = 'Diagrama de cajas i bigotes')"
   ]
  },
  {
   "cell_type": "markdown",
   "metadata": {},
   "source": [
    "### Ejercicio 7"
   ]
  },
  {
   "cell_type": "code",
   "execution_count": null,
   "metadata": {},
   "outputs": [],
   "source": [
    "plot.geodata(ca20)\n",
    "\n",
    "# Introducimos polinomio de 1er orden\n",
    "plot.geodata(ca20, trend = '1st')\n",
    "\n",
    "# Gráficos en 3D\n",
    "plot.geodata(ca20, trend = '1st', scatter3d = TRUE)"
   ]
  },
  {
   "cell_type": "markdown",
   "metadata": {},
   "source": [
    "### Ejercicio 8"
   ]
  },
  {
   "cell_type": "code",
   "execution_count": null,
   "metadata": {},
   "outputs": [],
   "source": [
    "# Tamaño mínimo y máximo\n",
    "points(ca20, main = 'Gráfico de ubicaciones', cex.max = 2, cex.min = 0.5)\n",
    "\n",
    "# División por cuartiles\n",
    "points(ca20, main = 'Gráfico de ubicaciones', cex.max = 2, cex.min = 0.5, pt.div = \"quartile\")\n",
    "\n",
    "# División por deciles\n",
    "points(ca20, main = 'Gráfico de ubicaciones', cex.max = 2, cex.min = 0.5, pt.div = \"decile\")"
   ]
  },
  {
   "cell_type": "markdown",
   "metadata": {},
   "source": [
    "### Ejercicio 9"
   ]
  },
  {
   "cell_type": "code",
   "execution_count": null,
   "metadata": {},
   "outputs": [],
   "source": [
    "# Variograma simple\n",
    "ca20.vario1 <- variog(ca20)\n",
    "plot(ca20.vario1, main='Variograma teórico')\n",
    "legend(\"bottomright\", legend='Grado de autocorrelación', pch=1)\n",
    "\n",
    "# Variograma de nube\n",
    "ca20.cl1 <- variog(ca20, option='cloud')\n",
    "plot(ca20.cl1, main='Variograma de nube')\n",
    "legend(\"topright\", legend='Grado de autocorrelación', pch=1)\n",
    "\n",
    "# Variograma con distancia máxima\n",
    "ca20.vario2 <- variog(ca20, max.dist=500)\n",
    "plot(ca20.vario2, main='Variograma con distancia máxima')\n",
    "legend(\"bottomright\", legend='Grado de autocorrelación', pch=1)\n",
    "\n",
    "# Polinomio de 1r grado\n",
    "ca20.variot1 <- variog(ca20, max.dist=500, trend='1st')\n",
    "plot(ca20.variot1, main='Variograma con polinomio de 1r grado')\n",
    "legend(\"bottomright\", legend='Grado de autocorrelación', pch=1)\n",
    "\n",
    "# Polinomio de 2o grado\n",
    "ca20.variot2 <- variog(ca20, max.dist=500, trend='2nd')\n",
    "plot(ca20.variot2, main='Variograma con polinomio de 2o grado')\n",
    "legend(\"bottomright\", legend='Grado de autocorrelación', pch=1)\n",
    "\n",
    "# Comprovar anisotropia\n",
    "ca20.vario3 <- variog4(ca20, max.dist=500)\n",
    "plot(ca20.vario3, main='Variograma direccional')"
   ]
  },
  {
   "cell_type": "markdown",
   "metadata": {},
   "source": [
    "### Ejercicio 10"
   ]
  },
  {
   "cell_type": "code",
   "execution_count": null,
   "metadata": {},
   "outputs": [],
   "source": [
    "# Definir modelos\n",
    "ca20.vfit.exp <- variofit(ca20.vario2, cov.model='exponential')\n",
    "ca20.vfit.sph <- variofit(ca20.vario2, cov.model='spherical')\n",
    "ca20.vfit.gau <- variofit(ca20.vario2, cov.model='gaussian')\n",
    "\n",
    "# Representación\n",
    "plot(ca20.vario2, main='Ajuste de variogramas teóricos')\n",
    "lines(ca20.vfit.exp, col='blue')\n",
    "lines(ca20.vfit.sph, col='red')\n",
    "lines(ca20.vfit.gau, col='green')\n",
    "legend('bottomright', lty=1, legend=c('Exponencial', 'Esférica', 'Gaussiana'), col=c('blue', 'red', 'green'))"
   ]
  },
  {
   "cell_type": "markdown",
   "metadata": {},
   "source": [
    "### Ejercicio 11"
   ]
  },
  {
   "cell_type": "code",
   "execution_count": null,
   "metadata": {},
   "outputs": [],
   "source": [
    "plot.new()\n",
    "grid1 <- pred_grid(ca20$borders, by=30)\n",
    "grid2 <- locations.inside(grid1, ca20$borders)\n",
    "points(ca20)\n",
    "points(grid1, pch=19, col='blue', cex=0.25)\n",
    "points(grid2, pch=19, col='red', cex=0.25)"
   ]
  },
  {
   "cell_type": "markdown",
   "metadata": {},
   "source": [
    "### Ejercicio 12"
   ]
  },
  {
   "cell_type": "code",
   "execution_count": null,
   "metadata": {},
   "outputs": [],
   "source": [
    "# Creación de la predicción\n",
    "ca20.k1 <- krige.conv(ca20, loc=grid1, krige=krige.control(obj.m = ca20.vfit.exp))\n",
    "names(ca20.k1)\n",
    "\n",
    "# Ploteado\n",
    "image(ca20.k1, col = rev(heat.colors(30)), xlab = \"Longitud\", ylab = \"Latitud\")\n",
    "title(main='Modelo exponencial')\n",
    "contour(ca20.k1, add = TRUE, nlevel = 10)"
   ]
  }
 ],
 "metadata": {
  "kernelspec": {
   "display_name": "R",
   "language": "R",
   "name": "ir"
  }
 },
 "nbformat": 4,
 "nbformat_minor": 2
}
