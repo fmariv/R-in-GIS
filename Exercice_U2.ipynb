{
 "cells": [
  {
   "cell_type": "markdown",
   "metadata": {},
   "source": [
    "# Ejercicios Unidad 2"
   ]
  },
  {
   "cell_type": "markdown",
   "metadata": {},
   "source": [
    "## Operaciones básicas en R"
   ]
  },
  {
   "cell_type": "markdown",
   "metadata": {},
   "source": [
    "### Ejercicio 1"
   ]
  },
  {
   "cell_type": "code",
   "execution_count": null,
   "metadata": {},
   "outputs": [],
   "source": [
    "nombre <- 'Marina'\n",
    "edad <- 23\n",
    "altura <- 1.73\n",
    "mujer <- TRUE"
   ]
  },
  {
   "cell_type": "markdown",
   "metadata": {},
   "source": [
    "### Ejercicio 2"
   ]
  },
  {
   "cell_type": "code",
   "execution_count": null,
   "metadata": {},
   "outputs": [],
   "source": [
    "v1 <- c(130, 21, 132, 1, 6, 390, 45)\n",
    "v2 <- c('Ana', 'Mariana', 'Susana', 'Jesús', 'Juana')\n",
    "v3 <- c(1, 2, 3, 4, 5, 6, 7)\n",
    "\n",
    "mode(v1)\n",
    "length(v1)\n",
    "\n",
    "mode(v2)\n",
    "length(v2)\n",
    "\n",
    "mode(v3)\n",
    "length(v3)\n"
   ]
  },
  {
   "cell_type": "markdown",
   "metadata": {},
   "source": [
    "### Ejercicio 3"
   ]
  },
  {
   "cell_type": "code",
   "execution_count": null,
   "metadata": {},
   "outputs": [],
   "source": [
    "zaragoza <- c(466.389, 487.972)\n",
    "huesca <- c(110.599, 108.746)\n",
    "teruel <- c(51.499, 66.512)\n",
    "\n",
    "matrix <- rbind(zaragoza, huesca, teruel)\n",
    "colnames(matrix) <- c('PobMasculina', 'PobFemenina')\n",
    "matrix"
   ]
  },
  {
   "cell_type": "markdown",
   "metadata": {},
   "source": [
    "### Ejercicio 4"
   ]
  },
  {
   "cell_type": "code",
   "execution_count": null,
   "metadata": {},
   "outputs": [],
   "source": [
    "rownames(matrix) <- c('Zaragoza', 'Huesca', 'Teruel')\n",
    "pobTotal <- colSums(matrix)\n",
    "matrix <- rbind(matrix, pobTotal)\n",
    "matrix"
   ]
  },
  {
   "cell_type": "markdown",
   "metadata": {},
   "source": [
    "### Ejercicio 5"
   ]
  },
  {
   "cell_type": "code",
   "execution_count": null,
   "metadata": {},
   "outputs": [],
   "source": [
    "df <- as.data.frame(matrix)\n",
    "df"
   ]
  },
  {
   "cell_type": "markdown",
   "metadata": {},
   "source": [
    "### Ejercicio 6"
   ]
  },
  {
   "cell_type": "code",
   "execution_count": null,
   "metadata": {},
   "outputs": [],
   "source": [
    "setwd('C:\\Users\\fmart\\Documents\\Workspace\\SIG_y_R')\n",
    "cameras = read.csv(file = './datos/otros_datos/camaras.csv', header = TRUE, sep = ';')"
   ]
  },
  {
   "cell_type": "markdown",
   "metadata": {},
   "source": [
    "### Ejercicio 7"
   ]
  },
  {
   "cell_type": "code",
   "execution_count": null,
   "metadata": {},
   "outputs": [],
   "source": [
    "attach(cameras)\n",
    "plot.new()\n",
    "plot(X, Y, main = 'Coordenadas de las cámaras de tráfico de Valencia', sub = 'Curso de R y SIG',\n",
    "     type = 'p', xlab = 'Coordenada X', ylab = 'Coordenada Y', col = 'Blue')\n",
    "legend(x = 'topright', legend = 'Coordenada', pch = 1, col = 'Blue')"
   ]
  }
 ],
 "metadata": {
  "kernelspec": {
   "display_name": "R",
   "language": "R",
   "name": "ir"
  }
 },
 "nbformat": 4,
 "nbformat_minor": 2
}
