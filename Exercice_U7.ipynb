{
 "cells": [
  {
   "cell_type": "markdown",
   "metadata": {},
   "source": [
    "# Ejercicios Unidad 7"
   ]
  },
  {
   "cell_type": "markdown",
   "metadata": {},
   "source": [
    "## Creación de mapas web con R"
   ]
  },
  {
   "cell_type": "code",
   "execution_count": null,
   "metadata": {},
   "outputs": [],
   "source": [
    "# Modificar por la ruta de directorio de trabajo\n",
    "setwd(\"C:/Users/fmart/Documents/Workspace/SIG_y_R\")\n",
    "\n",
    "# Cargamos las librerias\n",
    "library(sp)\n",
    "library(sf)\n",
    "library(raster)\n",
    "library(leaflet)"
   ]
  },
  {
   "cell_type": "markdown",
   "metadata": {},
   "source": [
    "### Ejercicio 1"
   ]
  },
  {
   "cell_type": "code",
   "execution_count": null,
   "metadata": {},
   "outputs": [],
   "source": [
    "map <- leaflet(options = leafletOptions(minZoom=8, maxZoom=20))\n",
    "map <- addTiles(map)\n",
    "map <- setView(map, lng=-2.44, lat=42.46, zoom=12)\n",
    "map"
   ]
  },
  {
   "cell_type": "markdown",
   "metadata": {},
   "source": [
    "### Ejercicio 2"
   ]
  },
  {
   "cell_type": "code",
   "execution_count": null,
   "metadata": {},
   "outputs": [],
   "source": [
    "map <- leaflet(options = leafletOptions(minZoom=8, maxZoom=20)) %>% addTiles() %>% \n",
    "  setView(lng=-2.44, lat=42.46, zoom=12)\n",
    "map"
   ]
  },
  {
   "cell_type": "markdown",
   "metadata": {},
   "source": [
    "### Ejercicio 3"
   ]
  },
  {
   "cell_type": "code",
   "execution_count": null,
   "metadata": {},
   "outputs": [],
   "source": [
    "map2 <- map %>% addProviderTiles(provider=providers$CartoDB.DarkMatter) \n",
    "map2\n",
    "\n",
    "map3 <- map %>% addProviderTiles(provider=providers$CartoDB.Positron)\n",
    "map3\n",
    "\n",
    "map4 <- map %>% addProviderTiles(provider=providers$CartoDB.Voyager)\n",
    "map4"
   ]
  },
  {
   "cell_type": "markdown",
   "metadata": {},
   "source": [
    "### Ejercicio 4"
   ]
  },
  {
   "cell_type": "code",
   "execution_count": null,
   "metadata": {},
   "outputs": [],
   "source": [
    "map_marker <- map %>% addMarkers(lng=-2.44, lat=42.46, \n",
    "                                 popup='Centro de Logroño',\n",
    "                                 label='Capital de La Rioja')\n",
    "map_marker"
   ]
  },
  {
   "cell_type": "markdown",
   "metadata": {},
   "source": [
    "### Ejercicio 5"
   ]
  },
  {
   "cell_type": "code",
   "execution_count": null,
   "metadata": {},
   "outputs": [],
   "source": [
    "centros <- st_read('datos/datos_vectoriales/centros.geojson')\n",
    "crs(centros)\n",
    "names(centros)\n",
    "map_geojson <- map %>% addMarkers(data=centros, popup=~T205_NOMBRE)\n",
    "map_geojson"
   ]
  },
  {
   "cell_type": "markdown",
   "metadata": {},
   "source": [
    "### Ejercicio 6"
   ]
  },
  {
   "cell_type": "code",
   "execution_count": null,
   "metadata": {},
   "outputs": [],
   "source": [
    "# Icono personalizado\n",
    "iconSchool <- makeIcon(iconUrl='datos/otros_datos/school.png',\n",
    "                       iconWidth=30, iconHeight=30)\n",
    "                       \n",
    "# Mapa\n",
    "map6 <- map %>% addMarkers(data=centros[1:6,], icon=iconSchool, popup=~T205_NOMBRE)\n",
    "map6"
   ]
  },
  {
   "cell_type": "markdown",
   "metadata": {},
   "source": [
    "### Ejercicio 7"
   ]
  },
  {
   "cell_type": "code",
   "execution_count": null,
   "metadata": {},
   "outputs": [],
   "source": [
    "map7 <- map %>% addCircleMarkers(lng=-2.471, lat=42.453,\n",
    "                                 label = 'Bomberos de Logroño',\n",
    "                                 labelOptions = labelOptions(style=list(\n",
    "                                   'color' = 'green', \n",
    "                                   'font-size' = '15px',\n",
    "                                   'box-shadow' = '3px 3px'\n",
    "                                 ))) %>% addPopups(lng=-2.4718, lat=42.427,\n",
    "                                                   popup='<p>5º Carrera Popular Ferrer Sport Center',\n",
    "                                                   popupOptions(noHide=T))\n",
    "\n",
    "map7"
   ]
  },
  {
   "cell_type": "markdown",
   "metadata": {},
   "source": [
    "### Ejercicio 8"
   ]
  },
  {
   "cell_type": "code",
   "execution_count": null,
   "metadata": {},
   "outputs": [],
   "source": [
    "# Datos\n",
    "ferro <- st_read('datos/datos_vectoriales/ferrocarril.geojson')\n",
    "munis <- st_read('datos/datos_vectoriales/municipios.geojson')\n",
    "\n",
    "# Mapa\n",
    "map_ferrocarril_Rioja <- leaflet() %>% addProviderTiles(provider=providers$CartoDB.DarkMatter) %>% \n",
    "  setView(lng=-2.44, lat=42.46, zoom=9) \n",
    "  \n",
    "# Añadir datos\n",
    "map_ferrocarril_Rioja <- addPolylines(map_ferrocarril_Rioja, data=ferro, \n",
    "                                      color = 'red', \n",
    "                                      popup = ~T186_NOMBRE)\n",
    "map_ferrocarril_Rioja <- addPolygons(map_ferrocarril_Rioja, data=munis,\n",
    "                                     fillColor = 'green',\n",
    "                                     fillOpacity = 0.4,\n",
    "                                     weight = 0.5,\n",
    "                                     label = ~NOMBRE_MUNICIPIO\n",
    "                                     )\n",
    "map_ferrocarril_Rioja"
   ]
  },
  {
   "cell_type": "markdown",
   "metadata": {},
   "source": [
    "### Ejercicio 9"
   ]
  },
  {
   "cell_type": "code",
   "execution_count": null,
   "metadata": {},
   "outputs": [],
   "source": [
    "emergency <- st_read('datos/datos_vectoriales/emergencias.geojson')\n",
    "map_ferrocarril_Rioja <- addCircles(map_ferrocarril_Rioja, data=emergency,\n",
    "                                    fillColor='blue', popup=~T137_NOMBRE)\n",
    "map_ferrocarril_Rioja"
   ]
  },
  {
   "cell_type": "markdown",
   "metadata": {},
   "source": [
    "### Ejercicio 10"
   ]
  },
  {
   "cell_type": "code",
   "execution_count": null,
   "metadata": {},
   "outputs": [],
   "source": [
    "wc <- raster('datos/datos_raster/worldclim2.tif')\n",
    "r_col <- colorNumeric('RdBu', values(wc), na.color='transparent')\n",
    "leaflet() %>% addTiles() %>% addRasterImage(wc, colors=r_col)"
   ]
  },
  {
   "cell_type": "markdown",
   "metadata": {},
   "source": [
    "### Ejercicio 11"
   ]
  },
  {
   "cell_type": "code",
   "execution_count": null,
   "metadata": {},
   "outputs": [],
   "source": [
    "leaflet() %>% addTiles() %>% addRasterImage(wc, colors=r_col) %>% addLegend('bottomright', \n",
    "                                                                            r_col, values(wc),\n",
    "                                                                            na.label='NA',\n",
    "                                                                            title='Leyenda')"
   ]
  }
 ],
 "metadata": {
  "kernelspec": {
   "display_name": "R",
   "language": "R",
   "name": "ir"
  }
 },
 "nbformat": 4,
 "nbformat_minor": 2
}
